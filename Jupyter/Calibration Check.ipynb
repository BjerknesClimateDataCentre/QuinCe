{
 "cells": [
  {
   "cell_type": "markdown",
   "metadata": {},
   "source": [
    "# QuinCe Gas Calibration Check\n",
    "This notebook takes in a file exported from QuinCe and calculates various statistics on the gas calibration calculations that have been performed.\n",
    "\n",
    "The notebook requires a file exported in **ICOS OTC** format and compares the column `CO2 Mole Fraction [umol mol-1]` with `xCO2 In Water - Calibrated In Dry Air [mol mol-1]`."
   ]
  },
  {
   "cell_type": "markdown",
   "metadata": {},
   "source": [
    "## Getting Started\n",
    "The cell below sets up all the package imports and performs any other preparation tasks we need. Just run it. "
   ]
  },
  {
   "cell_type": "code",
   "execution_count": null,
   "metadata": {},
   "outputs": [],
   "source": [
    "# Package imports\n",
    "import os\n",
    "import pandas as pd\n",
    "import numpy as np\n",
    "import statistics\n",
    "from ipywidgets import interact\n",
    "import ipywidgets as widgets\n",
    "\n",
    "# Bokeh Plots\n",
    "from bokeh.io import output_notebook, push_notebook, show\n",
    "from bokeh.plotting import figure\n",
    "output_notebook()\n",
    "\n",
    "# Hide warnings\n",
    "import warnings\n",
    "warnings.filterwarnings('ignore')\n",
    "\n",
    "# Create the data file directory if it doesn't exist\n",
    "FILE_DIR='data_files'\n",
    "\n",
    "if not os.path.exists(FILE_DIR):\n",
    "    os.mkdir(FILE_DIR)\n"
   ]
  },
  {
   "cell_type": "markdown",
   "metadata": {},
   "source": [
    "## Choose a file to check\n",
    "Any file you want to check must be uploaded to the server before we can use it.\n",
    "\n",
    "The cell below lets you choose a file from the `Validation/data_files` folder. If you don't see your file there, you can upload it using the main Jupyter hub and run the cell again."
   ]
  },
  {
   "cell_type": "code",
   "execution_count": null,
   "metadata": {
    "scrolled": true
   },
   "outputs": [],
   "source": [
    "available_files = [f for f in os.listdir(FILE_DIR) if f.endswith('ICOS OTC.csv')]\n",
    "available_files.sort()\n",
    "chosen_file = None\n",
    "\n",
    "def load_file(filename):\n",
    "    global chosen_file\n",
    "    chosen_file = filename\n",
    "\n",
    "dummy = interact(load_file, filename=available_files)\n"
   ]
  },
  {
   "cell_type": "markdown",
   "metadata": {},
   "source": [
    "## Load and prepare data"
   ]
  },
  {
   "cell_type": "code",
   "execution_count": null,
   "metadata": {},
   "outputs": [],
   "source": [
    "in_data = pd.read_csv(os.path.join(FILE_DIR, chosen_file))\n",
    "data = in_data[['Date/Time', 'CO2 Mole Fraction [umol mol-1]', 'xCO2 In Water - Calibrated In Dry Air [umol mol-1]']]\n",
    "data.rename(columns = {'Date/Time':'Timestamp'}, inplace = True)\n",
    "data.rename(columns = {'CO2 Mole Fraction [umol mol-1]':'Measured'}, inplace = True)\n",
    "data.rename(columns = {'xCO2 In Water - Calibrated In Dry Air [umol mol-1]':'Calibrated'}, inplace = True)\n",
    "data['Timestamp'] = data['Timestamp'].apply(pd.to_datetime)\n",
    "data = data[pd.to_numeric(data['Calibrated'], errors='coerce').notnull()]\n"
   ]
  },
  {
   "cell_type": "markdown",
   "metadata": {},
   "source": [
    "## Time Series\n",
    "The cell below builds a simple plot of the time series, showing the measured vs calibrated CO₂ for water measurements"
   ]
  },
  {
   "cell_type": "code",
   "execution_count": null,
   "metadata": {},
   "outputs": [],
   "source": [
    "timeseries = figure(plot_width=900, plot_height=600, x_axis_type='datetime', x_axis_label='Time', y_axis_label='CO₂')\n",
    "timeseries.circle(data['Timestamp'], data['Measured'], color='black', size=5, legend_label='Measured')\n",
    "timeseries.circle(data['Timestamp'], data['Calibrated'], color='blue', size=5, legend_label='Calibrated')\n",
    "show(timeseries)"
   ]
  },
  {
   "cell_type": "markdown",
   "metadata": {},
   "source": [
    "## Measured vs Calibrated\n",
    "This cell draws a scatter plot of the measured vs calibrated values. This should be very close to a linear relationship."
   ]
  },
  {
   "cell_type": "code",
   "execution_count": null,
   "metadata": {},
   "outputs": [],
   "source": [
    "vs_plot = figure(plot_width=600, plot_height=600, x_axis_label='Measured', y_axis_label='Calibrated')\n",
    "vs_plot.circle(data['Measured'], data['Calibrated'], size=5)\n",
    "show(vs_plot)"
   ]
  },
  {
   "cell_type": "markdown",
   "metadata": {},
   "source": [
    "## Differences\n",
    "Below are statistics on the differences between the measured and calibrated CO₂ values."
   ]
  },
  {
   "cell_type": "code",
   "execution_count": null,
   "metadata": {},
   "outputs": [],
   "source": [
    "data['Difference'] = data['Calibrated'] - data['Measured']\n",
    "\n",
    "# Time series of differences\n",
    "diff_timeseries = figure(plot_width=900, plot_height=600, x_axis_type='datetime', x_axis_label='Time', y_axis_label='Calibrated - Measured')\n",
    "diff_timeseries.circle(data['Timestamp'], data['Difference'], color='black', size=5, legend_label='Calibrated - Measured')\n",
    "show(diff_timeseries)"
   ]
  },
  {
   "cell_type": "code",
   "execution_count": null,
   "metadata": {
    "scrolled": false
   },
   "outputs": [],
   "source": [
    "hist, edges = np.histogram(data['Difference'], density=True, bins=100)\n",
    "\n",
    "print(f'Difference range {min(data[\"Difference\"])} to {max(data[\"Difference\"])}')\n",
    "print(f'Mean difference {statistics.mean(data[\"Difference\"])}')\n",
    "print(f'Median difference {statistics.median(data[\"Difference\"])}')\n",
    "\n",
    "p = figure(plot_width=900, plot_height=600, x_axis_label='Difference', y_axis_label='Proprotion')\n",
    "p.quad(top=hist, bottom=0, left=edges[:-1], right=edges[1:], fill_color=\"navy\", line_color=\"white\", alpha=0.5)\n",
    "show(p)"
   ]
  },
  {
   "cell_type": "code",
   "execution_count": null,
   "metadata": {},
   "outputs": [],
   "source": []
  }
 ],
 "metadata": {
  "kernelspec": {
   "display_name": "Python 3",
   "language": "python",
   "name": "python3"
  },
  "language_info": {
   "codemirror_mode": {
    "name": "ipython",
    "version": 3
   },
   "file_extension": ".py",
   "mimetype": "text/x-python",
   "name": "python",
   "nbconvert_exporter": "python",
   "pygments_lexer": "ipython3",
   "version": "3.8.6"
  }
 },
 "nbformat": 4,
 "nbformat_minor": 4
}
