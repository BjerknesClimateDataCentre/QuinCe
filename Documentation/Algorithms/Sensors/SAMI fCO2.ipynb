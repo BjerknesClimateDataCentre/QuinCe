{
 "cells": [
  {
   "cell_type": "markdown",
   "metadata": {},
   "source": [
    "# fCO₂ Calculation\n",
    "This notebook explores the influence of various parameters on the calculation of fCO₂.\n",
    "\n",
    "The standard fCO₂ calculation requires:\n",
    "- pCO₂\n",
    "- xCO₂\n",
    "- Pressure\n",
    "- Temperature\n",
    "\n",
    "The SAMI sensor reports only temperature and pCO₂, so we need to find out how we can substitute values to get to fCO₂.\n",
    "\n",
    "We'll set up an example SAMI output and vary the missing parameters to see how they impact the calculated fCO₂."
   ]
  },
  {
   "cell_type": "code",
   "execution_count": 1,
   "metadata": {},
   "outputs": [],
   "source": [
    "import math\n",
    "import numpy as n\n",
    "from matplotlib import pyplot\n",
    "\n",
    "# Theoretical SAMI output\n",
    "temperature = 25.0\n",
    "pco2 = 375\n",
    "\n",
    "# Default values for missing parameters\n",
    "default_pressure = 1013.25\n",
    "default_xco2 = 375\n",
    "\n",
    "# hPa to Atmospheres converter\n",
    "def hpaToAtmospheres(hpa):\n",
    "    return hpa * 100 * 0.00000986923266716013\n",
    "\n",
    "# Function to calculate fco2\n",
    "def calc_fco2(pco2, xco2, pressure, temperature):\n",
    "    kelvin = temperature + 273.15\n",
    "    B = -1636.75 + 12.0408 * kelvin - 0.0327957 * pow(kelvin, 2) + (3.16528 * 1e-5) * pow(kelvin, 3)\n",
    "    delta = 57.7 - 0.118 * kelvin\n",
    "\n",
    "    return pco2 * math.exp(((B + 2 * pow(1 - xco2 * 1e-6, 2) * delta) * hpaToAtmospheres(pressure)) / (82.0575 * kelvin))"
   ]
  },
  {
   "cell_type": "markdown",
   "metadata": {},
   "source": [
    "## Pressure"
   ]
  },
  {
   "cell_type": "code",
   "execution_count": 2,
   "metadata": {},
   "outputs": [
    {
     "data": {
      "text/plain": [
       "<matplotlib.collections.PathCollection at 0x10dd3f8e0>"
      ]
     },
     "execution_count": 2,
     "metadata": {},
     "output_type": "execute_result"
    },
    {
     "data": {
      "image/png": "[encoded data removed]",
      "text/plain": [
       "<Figure size 432x288 with 1 Axes>"
      ]
     },
     "metadata": {
      "needs_background": "light"
     },
     "output_type": "display_data"
    }
   ],
   "source": [
    "pressure_min = 950\n",
    "pressure_max = 1040\n",
    "pressures = range(pressure_min, pressure_max + 1)\n",
    "\n",
    "p_fco2s = [None]*len(pressures)\n",
    "\n",
    "for i in range(0, len(pressures)):\n",
    "    p_fco2s[i] = calc_fco2(pco2, default_xco2, pressures[i], temperature)\n",
    "\n",
    "pyplot.scatter(pressures, p_fco2s)"
   ]
  },
  {
   "cell_type": "markdown",
   "metadata": {},
   "source": [
    "## xCO₂"
   ]
  },
  {
   "cell_type": "code",
   "execution_count": 3,
   "metadata": {},
   "outputs": [
    {
     "name": "stdout",
     "output_type": "stream",
     "text": [
      "373.8034286838584\n",
      "373.80342730813425\n",
      "373.8034259324115\n",
      "373.8034245566901\n",
      "373.8034231809701\n",
      "373.8034218052515\n",
      "373.8034204295343\n",
      "373.80341905381846\n",
      "373.8034176781039\n",
      "373.8034163023909\n",
      "373.8034149266791\n",
      "373.80341355096886\n",
      "373.8034121752599\n",
      "373.80341079955235\n",
      "373.8034094238462\n",
      "373.80340804814136\n",
      "373.8034066724379\n",
      "373.8034052967359\n",
      "373.8034039210352\n",
      "373.8034025453359\n",
      "373.80340116963805\n",
      "373.80339979394154\n",
      "373.8033984182464\n",
      "373.80339704255266\n",
      "373.8033956668603\n",
      "373.8033942911693\n",
      "373.8033929154797\n",
      "373.80339153979145\n",
      "373.8033901641046\n",
      "373.80338878841917\n",
      "373.80338741273505\n",
      "373.80338603705235\n",
      "373.80338466137107\n",
      "373.8033832856911\n",
      "373.8033819100126\n",
      "373.80338053433536\n",
      "373.8033791586596\n",
      "373.8033777829852\n",
      "373.80337640731216\n",
      "373.8033750316405\n",
      "373.80337365597023\n"
     ]
    },
    {
     "data": {
      "text/plain": [
       "<matplotlib.collections.PathCollection at 0x10de097c0>"
      ]
     },
     "execution_count": 3,
     "metadata": {},
     "output_type": "execute_result"
    },
    {
     "data": {
      "image/png": "[encoded data removed]",
      "text/plain": [
       "<Figure size 432x288 with 1 Axes>"
      ]
     },
     "metadata": {
      "needs_background": "light"
     },
     "output_type": "display_data"
    }
   ],
   "source": [
    "xco2_min = pco2 - 20\n",
    "xco2_max = pco2 + 20\n",
    "xco2s = range(xco2_min, xco2_max + 1)\n",
    "\n",
    "x_fco2s = [None]*len(xco2s)\n",
    "\n",
    "for i in range(0, len(xco2s)):\n",
    "    x_fco2s[i] = calc_fco2(pco2, xco2s[i], default_pressure, temperature)\n",
    "    print(x_fco2s[i])\n",
    "\n",
    "pyplot.scatter(xco2s, x_fco2s)"
   ]
  },
  {
   "cell_type": "code",
   "execution_count": null,
   "metadata": {},
   "outputs": [],
   "source": []
  }
 ],
 "metadata": {
  "kernelspec": {
   "display_name": "Python 3",
   "language": "python",
   "name": "python3"
  },
  "language_info": {
   "codemirror_mode": {
    "name": "ipython",
    "version": 3
   },
   "file_extension": ".py",
   "mimetype": "text/x-python",
   "name": "python",
   "nbconvert_exporter": "python",
   "pygments_lexer": "ipython3",
   "version": "3.8.12"
  }
 },
 "nbformat": 4,
 "nbformat_minor": 4
}
