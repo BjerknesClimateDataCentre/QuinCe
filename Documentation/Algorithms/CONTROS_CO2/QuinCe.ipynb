{
 "cells": [
  {
   "cell_type": "markdown",
   "id": "9c032390-e44c-4142-870e-15a5751d58d7",
   "metadata": {},
   "source": [
    "# 4H-JENA CONTROS pCO2 Algorithm for QuinCe\n",
    "This notebook is the \"definitive\" version of the CONTROS algorithm used in QuinCe, developed from work done by:\n",
    "- Nadja Kinski (4H-JENA)\n",
    "- Vlad Macovei (Hereon)\n",
    "- Guiliano Castelli (ISMAR)"
   ]
  },
  {
   "cell_type": "markdown",
   "id": "7b08219e-27cf-4311-8b70-d16055216e72",
   "metadata": {},
   "source": [
    "## Python Setup\n",
    "Load libraries required libraries"
   ]
  },
  {
   "cell_type": "code",
   "execution_count": 1,
   "id": "e61183e3-fd38-48f6-855a-f2bbaf6ef987",
   "metadata": {},
   "outputs": [],
   "source": [
    "import warnings\n",
    "warnings.simplefilter(action='ignore', category=FutureWarning)\n",
    "\n",
    "import matplotlib.pyplot as plt\n",
    "import pandas as pd\n",
    "import numpy as np\n",
    "\n",
    "pd.options.mode.chained_assignment = None  # default='warn'"
   ]
  },
  {
   "cell_type": "markdown",
   "id": "b3f4b9c4-c029-4c13-94a1-8c97509dae72",
   "metadata": {},
   "source": [
    "## Calibration Information\n",
    "For correct calibration of data, the sensor must be calibration before and after deployment, and information from the calibration sheets is required in the calculations. The required values are:\n",
    "\n",
    "| Value | From pre-calibration | From post-calibration |\n",
    "| :-: | :-: | :-: |\n",
    "| $$F$$ | ✔️ |  |\n",
    "| $$p_{0}$$ | ✔️ |  |\n",
    "| $$T_{0}$$ | ✔️ |  |\n",
    "| $$Runtime$$ | ✔️ | ✔️ |\n",
    "| $$k_{1}$$ | ✔️ | ✔️ |\n",
    "| $$k_{2}$$ | ✔️ | ✔️ |\n",
    "| $$k_{3}$$ | ✔️ | ✔️ |\n",
    "\n",
    "\n",
    "**Note:** $p_{0}$ and $T_{0}$ are usually the 'standard' expected defaults for surface pressure (1013.25 hPa) and 273.15°K respectively, but this will not always be the case. Be sure to check the calibration sheets every time."
   ]
  },
  {
   "cell_type": "code",
   "execution_count": 2,
   "id": "bd0ceb91-c589-4d06-a12c-1ef2c53c3d1d",
   "metadata": {},
   "outputs": [],
   "source": [
    "FILE = 'input_file.csv'\n",
    "\n",
    "F = 61279\n",
    "p0 = 1013.25 # should be the same as on the Data Processing Sheet\n",
    "T0 = 273.15  # should be the same as on the Data Processing Sheet\n",
    "\n",
    "# calibration coefficients from calibration sheets\n",
    "runtime_pre  = 97335 \n",
    "k1_pre = 6.145946e-02\n",
    "k2_pre = 3.103593e-06\n",
    "k3_pre = 3.546593e-10\n",
    "\n",
    "runtime_post = 1468557\n",
    "k1_post = 6.050551e-02\n",
    "k2_post = 3.729867e-06\n",
    "k3_post = 2.945140e-10\n"
   ]
  },
  {
   "cell_type": "markdown",
   "id": "969210c9-642e-4a27-bcf2-0da95bd1853c",
   "metadata": {},
   "source": [
    "## Read in data\n",
    "Read in the data file."
   ]
  },
  {
   "cell_type": "code",
   "execution_count": 3,
   "id": "fd78025e-e769-4fa0-987c-8128d653816e",
   "metadata": {},
   "outputs": [],
   "source": [
    "data = pd.read_csv(FILE, sep=',', header=0)"
   ]
  },
  {
   "cell_type": "markdown",
   "id": "8609fc3e-eb36-41ff-a554-f599b9c15fa9",
   "metadata": {},
   "source": [
    "## Calculate S_2beam\n",
    "The dual-beam NDIR detector provides a raw and a reference signal, $𝑆_{raw}$ and $𝑆_{ref}$ , that are combined to a continuously referenced two-beam signal through \n",
    "$$𝑆_{2beam}=\\frac{𝑆_{raw}}{𝑆_{ref}}$$"
   ]
  },
  {
   "cell_type": "code",
   "execution_count": 4,
   "id": "9d7c9771-5b92-41ad-9424-f6b6f1bd844b",
   "metadata": {},
   "outputs": [],
   "source": [
    "data['S_2beam'] = data['Signal_raw'] / data['Signal_ref']"
   ]
  },
  {
   "cell_type": "markdown",
   "id": "2a6ef723-9742-4408-af18-e15b3d37f515",
   "metadata": {},
   "source": [
    "## Zeroing periods\n",
    "The sensor periodically runs a zeroing procedure for internal calibration. The results of the zeroing are used in the calculations.\n",
    "\n",
    "Each zeroing consists of a group of consecutive measurements that will be averaged before being applied as calibration, identified by the `Zero` column in the data being set to `1`. These values are plotted below.\n",
    "\n",
    "The individual measurements should be QCed by the user and outliers removed - as we see from the plot below, such outliers can be quite common.\n",
    "\n",
    "No QCing will be performed in this notebook."
   ]
  },
  {
   "cell_type": "code",
   "execution_count": 5,
   "id": "17247d36-52b0-4b87-a6da-f6357d35155d",
   "metadata": {},
   "outputs": [
    {
     "data": {
      "text/plain": [
       "<matplotlib.collections.PathCollection at 0x127e87be0>"
      ]
     },
     "execution_count": 5,
     "metadata": {},
     "output_type": "execute_result"
    },
    {
     "data": {
      "image/png": "[encoded data removed]",
      "text/plain": [
       "<Figure size 640x480 with 1 Axes>"
      ]
     },
     "metadata": {},
     "output_type": "display_data"
    }
   ],
   "source": [
    "zero_measurements = data[(data['Zero'] == 1) & (data['Flush'] == 0)]\n",
    "plt.scatter(zero_measurements['Runtime'], zero_measurements['S_2beam'], marker=\".\")"
   ]
  },
  {
   "cell_type": "markdown",
   "id": "6d2eef29-1216-4b07-83ee-a6c525543825",
   "metadata": {},
   "source": [
    "## Group Zeros\n",
    "We collect consecutive Zero measurements into groups and average them.\n",
    "\n",
    "Values QCed out by the user will be removed from their group prior to averaging."
   ]
  },
  {
   "cell_type": "code",
   "execution_count": 6,
   "id": "70ec7ae1-8945-4920-bbf0-137eb46a6812",
   "metadata": {},
   "outputs": [
    {
     "data": {
      "text/html": [
       "<div>\n",
       "<style scoped>\n",
       "    .dataframe tbody tr th:only-of-type {\n",
       "        vertical-align: middle;\n",
       "    }\n",
       "\n",
       "    .dataframe tbody tr th {\n",
       "        vertical-align: top;\n",
       "    }\n",
       "\n",
       "    .dataframe thead th {\n",
       "        text-align: right;\n",
       "    }\n",
       "</style>\n",
       "<table border=\"1\" class=\"dataframe\">\n",
       "  <thead>\n",
       "    <tr style=\"text-align: right;\">\n",
       "      <th></th>\n",
       "      <th>FirstRuntime</th>\n",
       "      <th>LastRuntime</th>\n",
       "      <th>MeanRuntime</th>\n",
       "      <th>Mean_S2beam</th>\n",
       "    </tr>\n",
       "  </thead>\n",
       "  <tbody>\n",
       "    <tr>\n",
       "      <th>0</th>\n",
       "      <td>365744</td>\n",
       "      <td>366014</td>\n",
       "      <td>3.658790e+05</td>\n",
       "      <td>0.812475</td>\n",
       "    </tr>\n",
       "    <tr>\n",
       "      <th>1</th>\n",
       "      <td>452122</td>\n",
       "      <td>452412</td>\n",
       "      <td>4.522670e+05</td>\n",
       "      <td>0.809185</td>\n",
       "    </tr>\n",
       "    <tr>\n",
       "      <th>2</th>\n",
       "      <td>500938</td>\n",
       "      <td>501198</td>\n",
       "      <td>5.010180e+05</td>\n",
       "      <td>0.807117</td>\n",
       "    </tr>\n",
       "    <tr>\n",
       "      <th>3</th>\n",
       "      <td>544158</td>\n",
       "      <td>544398</td>\n",
       "      <td>5.442780e+05</td>\n",
       "      <td>0.812365</td>\n",
       "    </tr>\n",
       "    <tr>\n",
       "      <th>4</th>\n",
       "      <td>587358</td>\n",
       "      <td>587538</td>\n",
       "      <td>5.874480e+05</td>\n",
       "      <td>0.812420</td>\n",
       "    </tr>\n",
       "    <tr>\n",
       "      <th>5</th>\n",
       "      <td>630554</td>\n",
       "      <td>630794</td>\n",
       "      <td>6.306740e+05</td>\n",
       "      <td>0.812415</td>\n",
       "    </tr>\n",
       "    <tr>\n",
       "      <th>6</th>\n",
       "      <td>673763</td>\n",
       "      <td>674003</td>\n",
       "      <td>6.738830e+05</td>\n",
       "      <td>0.812350</td>\n",
       "    </tr>\n",
       "    <tr>\n",
       "      <th>7</th>\n",
       "      <td>716963</td>\n",
       "      <td>717203</td>\n",
       "      <td>7.170830e+05</td>\n",
       "      <td>0.812358</td>\n",
       "    </tr>\n",
       "    <tr>\n",
       "      <th>8</th>\n",
       "      <td>760163</td>\n",
       "      <td>760423</td>\n",
       "      <td>7.602797e+05</td>\n",
       "      <td>0.812378</td>\n",
       "    </tr>\n",
       "    <tr>\n",
       "      <th>9</th>\n",
       "      <td>803383</td>\n",
       "      <td>803623</td>\n",
       "      <td>8.035030e+05</td>\n",
       "      <td>0.812457</td>\n",
       "    </tr>\n",
       "    <tr>\n",
       "      <th>10</th>\n",
       "      <td>889697</td>\n",
       "      <td>889937</td>\n",
       "      <td>8.898170e+05</td>\n",
       "      <td>0.812590</td>\n",
       "    </tr>\n",
       "    <tr>\n",
       "      <th>11</th>\n",
       "      <td>932866</td>\n",
       "      <td>933106</td>\n",
       "      <td>9.329860e+05</td>\n",
       "      <td>0.797846</td>\n",
       "    </tr>\n",
       "    <tr>\n",
       "      <th>12</th>\n",
       "      <td>957886</td>\n",
       "      <td>958126</td>\n",
       "      <td>9.580060e+05</td>\n",
       "      <td>0.812563</td>\n",
       "    </tr>\n",
       "    <tr>\n",
       "      <th>13</th>\n",
       "      <td>979487</td>\n",
       "      <td>979727</td>\n",
       "      <td>9.796070e+05</td>\n",
       "      <td>0.812474</td>\n",
       "    </tr>\n",
       "    <tr>\n",
       "      <th>14</th>\n",
       "      <td>1001087</td>\n",
       "      <td>1001327</td>\n",
       "      <td>1.001207e+06</td>\n",
       "      <td>0.812626</td>\n",
       "    </tr>\n",
       "    <tr>\n",
       "      <th>15</th>\n",
       "      <td>1022662</td>\n",
       "      <td>1022902</td>\n",
       "      <td>1.022782e+06</td>\n",
       "      <td>0.812572</td>\n",
       "    </tr>\n",
       "    <tr>\n",
       "      <th>16</th>\n",
       "      <td>1044262</td>\n",
       "      <td>1044502</td>\n",
       "      <td>1.044382e+06</td>\n",
       "      <td>0.812459</td>\n",
       "    </tr>\n",
       "    <tr>\n",
       "      <th>17</th>\n",
       "      <td>1065862</td>\n",
       "      <td>1066102</td>\n",
       "      <td>1.065982e+06</td>\n",
       "      <td>0.812541</td>\n",
       "    </tr>\n",
       "    <tr>\n",
       "      <th>18</th>\n",
       "      <td>1087462</td>\n",
       "      <td>1087702</td>\n",
       "      <td>1.087582e+06</td>\n",
       "      <td>0.812372</td>\n",
       "    </tr>\n",
       "    <tr>\n",
       "      <th>19</th>\n",
       "      <td>1109042</td>\n",
       "      <td>1109282</td>\n",
       "      <td>1.109162e+06</td>\n",
       "      <td>0.802038</td>\n",
       "    </tr>\n",
       "    <tr>\n",
       "      <th>20</th>\n",
       "      <td>1130642</td>\n",
       "      <td>1130882</td>\n",
       "      <td>1.130762e+06</td>\n",
       "      <td>0.800884</td>\n",
       "    </tr>\n",
       "    <tr>\n",
       "      <th>21</th>\n",
       "      <td>1152242</td>\n",
       "      <td>1152482</td>\n",
       "      <td>1.152362e+06</td>\n",
       "      <td>0.795045</td>\n",
       "    </tr>\n",
       "    <tr>\n",
       "      <th>22</th>\n",
       "      <td>1173842</td>\n",
       "      <td>1174082</td>\n",
       "      <td>1.173962e+06</td>\n",
       "      <td>0.795292</td>\n",
       "    </tr>\n",
       "    <tr>\n",
       "      <th>23</th>\n",
       "      <td>1195448</td>\n",
       "      <td>1195688</td>\n",
       "      <td>1.195568e+06</td>\n",
       "      <td>0.807107</td>\n",
       "    </tr>\n",
       "    <tr>\n",
       "      <th>24</th>\n",
       "      <td>1217048</td>\n",
       "      <td>1217288</td>\n",
       "      <td>1.217168e+06</td>\n",
       "      <td>0.806485</td>\n",
       "    </tr>\n",
       "    <tr>\n",
       "      <th>25</th>\n",
       "      <td>1238648</td>\n",
       "      <td>1238888</td>\n",
       "      <td>1.238768e+06</td>\n",
       "      <td>0.803343</td>\n",
       "    </tr>\n",
       "    <tr>\n",
       "      <th>26</th>\n",
       "      <td>1260249</td>\n",
       "      <td>1260488</td>\n",
       "      <td>1.260369e+06</td>\n",
       "      <td>0.805067</td>\n",
       "    </tr>\n",
       "    <tr>\n",
       "      <th>27</th>\n",
       "      <td>1324798</td>\n",
       "      <td>1325093</td>\n",
       "      <td>1.324946e+06</td>\n",
       "      <td>0.809003</td>\n",
       "    </tr>\n",
       "    <tr>\n",
       "      <th>28</th>\n",
       "      <td>1346399</td>\n",
       "      <td>1346694</td>\n",
       "      <td>1.346546e+06</td>\n",
       "      <td>0.809289</td>\n",
       "    </tr>\n",
       "  </tbody>\n",
       "</table>\n",
       "</div>"
      ],
      "text/plain": [
       "   FirstRuntime LastRuntime   MeanRuntime  Mean_S2beam\n",
       "0        365744      366014  3.658790e+05     0.812475\n",
       "1        452122      452412  4.522670e+05     0.809185\n",
       "2        500938      501198  5.010180e+05     0.807117\n",
       "3        544158      544398  5.442780e+05     0.812365\n",
       "4        587358      587538  5.874480e+05     0.812420\n",
       "5        630554      630794  6.306740e+05     0.812415\n",
       "6        673763      674003  6.738830e+05     0.812350\n",
       "7        716963      717203  7.170830e+05     0.812358\n",
       "8        760163      760423  7.602797e+05     0.812378\n",
       "9        803383      803623  8.035030e+05     0.812457\n",
       "10       889697      889937  8.898170e+05     0.812590\n",
       "11       932866      933106  9.329860e+05     0.797846\n",
       "12       957886      958126  9.580060e+05     0.812563\n",
       "13       979487      979727  9.796070e+05     0.812474\n",
       "14      1001087     1001327  1.001207e+06     0.812626\n",
       "15      1022662     1022902  1.022782e+06     0.812572\n",
       "16      1044262     1044502  1.044382e+06     0.812459\n",
       "17      1065862     1066102  1.065982e+06     0.812541\n",
       "18      1087462     1087702  1.087582e+06     0.812372\n",
       "19      1109042     1109282  1.109162e+06     0.802038\n",
       "20      1130642     1130882  1.130762e+06     0.800884\n",
       "21      1152242     1152482  1.152362e+06     0.795045\n",
       "22      1173842     1174082  1.173962e+06     0.795292\n",
       "23      1195448     1195688  1.195568e+06     0.807107\n",
       "24      1217048     1217288  1.217168e+06     0.806485\n",
       "25      1238648     1238888  1.238768e+06     0.803343\n",
       "26      1260249     1260488  1.260369e+06     0.805067\n",
       "27      1324798     1325093  1.324946e+06     0.809003\n",
       "28      1346399     1346694  1.346546e+06     0.809289"
      ]
     },
     "execution_count": 6,
     "metadata": {},
     "output_type": "execute_result"
    }
   ],
   "source": [
    "zero_groups = pd.DataFrame(columns=['FirstRuntime', 'LastRuntime', 'MeanRuntime', 'Mean_S2beam'])\n",
    "\n",
    "prev_index = -100\n",
    "current_start = None\n",
    "current_end = None\n",
    "entries = []\n",
    "runtimes = []\n",
    "\n",
    "for index, row in zero_measurements.iterrows():\n",
    "    if index - prev_index > 1:\n",
    "        # New zeroing period\n",
    "        if len(entries) > 0:\n",
    "            new_row = pd.DataFrame([[current_start, current_end,\n",
    "                                     np.mean(runtimes), np.mean(entries)]], columns=zero_groups.columns)\n",
    "            zero_groups = pd.concat([zero_groups, new_row], ignore_index=True)\n",
    " \n",
    "        current_start = row['Runtime']\n",
    "        current_end = None\n",
    "        entries = []\n",
    "        runtimes = []\n",
    "\n",
    "    entries.append(row['S_2beam'])\n",
    "    runtimes.append(row['Runtime'])\n",
    "    current_end = row['Runtime']\n",
    "    prev_index = index\n",
    "\n",
    "if len(entries) > 0:\n",
    "    new_row = pd.DataFrame([[current_start, current_end,\n",
    "                             np.mean(runtimes), np.mean(entries)]], columns=zero_groups.columns)\n",
    "    zero_groups = pd.concat([zero_groups, new_row], ignore_index=True)\n",
    "\n",
    "zero_groups"
   ]
  },
  {
   "cell_type": "markdown",
   "id": "7252ed54-fac0-4935-a3db-31626eb0b1cf",
   "metadata": {},
   "source": [
    "## Zero Interpolation\n",
    "The zero calibrations are linearly interpolated across the measurements between them. In the code below the interpolated values are stored in `Zero_Interp`, while in formulae we shall refer to the value as $S_{2beam,Z}$."
   ]
  },
  {
   "cell_type": "code",
   "execution_count": 7,
   "id": "ec01dcac-4934-4856-be17-324260ca149a",
   "metadata": {},
   "outputs": [],
   "source": [
    "# Calculate the interpolated zero point for each data point\n",
    "zero_interp = []\n",
    "\n",
    "for index, row in data.iterrows():\n",
    "    if row['Zero'] == 0 and row['Flush'] == 0:\n",
    "        zero_before = zero_groups[zero_groups['MeanRuntime'] < row['Runtime']]\n",
    "        if len(zero_before) == 0:\n",
    "            #print(f'No prior zero for row {index}')\n",
    "            zero_before = None\n",
    "        else:\n",
    "            zero_before = zero_before.iloc[-1]\n",
    "\n",
    "        zero_after = zero_groups[zero_groups['MeanRuntime'] > row['Runtime']]\n",
    "        if len(zero_after) == 0:\n",
    "            #print(f'No post zero for row {index}')\n",
    "            zero_after = None\n",
    "        else:\n",
    "            zero_after = zero_after.iloc[0]\n",
    "\n",
    "        if zero_before is None and zero_after is None:\n",
    "            zero_interp.append(np.nan)\n",
    "        elif zero_before is None or zero_after is None:\n",
    "            fixed_zero = zero_after if zero_before is None else zero_before\n",
    "            zero_interp.append(fixed_zero['Mean_S2beam'])\n",
    "        else:\n",
    "            x0 = zero_before['MeanRuntime']\n",
    "            x1 = zero_after['MeanRuntime']\n",
    "            y0 = zero_before['Mean_S2beam']\n",
    "            y1 = zero_after['Mean_S2beam']\n",
    "\n",
    "            x = row['Runtime']\n",
    "\n",
    "            zero_interp.append( ((y0 * (x1 - x)) + (y1 * (x - x0))) / (x1 - x0) )\n",
    "    else:\n",
    "        zero_interp.append(np.nan)\n",
    "            \n",
    "\n",
    "data['Zero_Interp'] = zero_interp"
   ]
  },
  {
   "cell_type": "code",
   "execution_count": 8,
   "id": "961f2b94-f75e-439d-9dea-717aa7f09c78",
   "metadata": {},
   "outputs": [
    {
     "data": {
      "text/plain": [
       "[<matplotlib.lines.Line2D at 0x15acb9ca0>]"
      ]
     },
     "execution_count": 8,
     "metadata": {},
     "output_type": "execute_result"
    },
    {
     "data": {
      "image/png": "[encoded data removed]",
      "text/plain": [
       "<Figure size 640x480 with 1 Axes>"
      ]
     },
     "metadata": {},
     "output_type": "display_data"
    }
   ],
   "source": [
    "# Plot the interpolated zeros\n",
    "fig, ax1 = plt.subplots()\n",
    "ax1.set_xlabel('Runtime') \n",
    "ax1.set_ylabel('S_2beam')\n",
    "ax1.plot(zero_groups['MeanRuntime'], zero_groups['Mean_S2beam'], color='darkblue', marker=\".\", markersize=10, linewidth=0)\n",
    "ax1.plot(data['Runtime'], data['Zero_Interp'], color='darkorange', marker=\".\", markersize=2, linewidth=0)\n"
   ]
  },
  {
   "cell_type": "markdown",
   "id": "ec1dae33-961e-4405-a02f-b4d0a8456d43",
   "metadata": {},
   "source": [
    "## Calculate S_DC and S_proc\n",
    "The drift-corrected signal ($S_{proc}$) can now be calculated using the interpolated zeroing values. For simplicity we do this in two steps:\n",
    "\n",
    "$$S_{proc}=F\\times\\left(1−\\left(\\frac{S_{2beam}}{S_{2beam,Z}}\\right)\\right)$$\n",
    "\n",
    "For simplicity and ease of debugging, the code is split into two steps:\n",
    "\n",
    "$$S_{DC} = \\frac{S_{2beam}}{S_{2beam,Z}}$$\n",
    "$$S_{proc}=F\\times\\left(1−S_{DC}\\right)$$\n"
   ]
  },
  {
   "cell_type": "code",
   "execution_count": 9,
   "id": "d5b34c9c-8e41-4193-9e82-df25e0d05797",
   "metadata": {},
   "outputs": [
    {
     "data": {
      "text/plain": [
       "[<matplotlib.lines.Line2D at 0x15ad41670>]"
      ]
     },
     "execution_count": 9,
     "metadata": {},
     "output_type": "execute_result"
    },
    {
     "data": {
      "image/png": "[encoded data removed]",
      "text/plain": [
       "<Figure size 640x480 with 1 Axes>"
      ]
     },
     "metadata": {},
     "output_type": "display_data"
    }
   ],
   "source": [
    "data['S_DC'] = data['S_2beam'] / data['Zero_Interp']\n",
    "data['S_proc'] = F * (1 - data['S_DC'])\n",
    "\n",
    "fig, ax1 = plt.subplots()\n",
    "ax1.set_xlabel('Runtime') \n",
    "ax1.set_ylabel('S_proc')\n",
    "ax1.plot(data['Runtime'], data['S_proc'], marker=\".\", markersize=2, linewidth=0)\n"
   ]
  },
  {
   "cell_type": "markdown",
   "id": "a8a5aeec-db84-4d5f-8860-ed132a6b8680",
   "metadata": {},
   "source": [
    "## Calculate xCO₂ and pCO₂\n",
    "Finally we calculate xCO₂:\n",
    "\n",
    "$$xCO_{2} = \\left( k_3\\times S_{proc}^3+ k_2\\times S_{proc}^2+ k_1\\times S_{proc} \\right)\\times \\frac{p_0\\times T}{T_0\\times p}$$\n",
    "where $T$ is the gas temperature (`T_gas` in the data file), $p$ is the pressure in the IR cell (`p_NDIR`), and $p_0$ and $T_0$ are from the calibration as described above.\n",
    "\n",
    "and pCO₂:\n",
    "\n",
    "$$pCO_{2} = xCO_{2}\\times \\frac{p}{p_{0}}$$\n",
    "\n",
    "**However**, we must interpolate the `k` parameters to calculate the correct drift between the pre- and post-calibration at the point of each measurement. This is simply a case of interpolating each `k` parameter to the `Runtime` value of the measurement. Below we calculate the average change in each `k` value per `Runtime` step, and apply that to the value of each measurement's `Runtime` offset from the pre-calibration `Runtime`."
   ]
  },
  {
   "cell_type": "code",
   "execution_count": 12,
   "id": "e874efbe-4f72-401e-94e6-9b6bf04a2d0d",
   "metadata": {},
   "outputs": [
    {
     "data": {
      "image/png": "[encoded data removed]",
      "text/plain": [
       "<Figure size 640x480 with 1 Axes>"
      ]
     },
     "metadata": {},
     "output_type": "display_data"
    }
   ],
   "source": [
    "# Change in the k parameters per runtime unit\n",
    "runtime_calibration_period = runtime_post - runtime_pre\n",
    "k1_step = (k1_post - k1_pre) / runtime_calibration_period\n",
    "k2_step = (k2_post - k2_pre) / runtime_calibration_period\n",
    "k3_step = (k3_post - k3_pre) / runtime_calibration_period\n",
    "\n",
    "data['xCO2_pp'] = (\n",
    "    ((k3_pre + (k3_step * data['Runtime'])) * data['S_proc'] ** 3\n",
    "    + (k2_pre + (k2_step * data['Runtime'])) * data['S_proc'] ** 2\n",
    "    + (k1_pre + (k1_step * data['Runtime'])) * data['S_proc'] ** 1)\n",
    "    * ((p0 * (data['T_gas'] + 273.15)) / (T0 * data['p_NDIR'])))\n",
    "\n",
    "data['pCO2_pp'] = data['xCO2_pp'] * data['p_in'] / p0\n",
    "\n",
    "# Finally, filter out the zero and flushing values to get the final output dataset\n",
    "final_data = data.loc[(data['Zero'] == 0) & (data['Flush'] == 0)]\n",
    "final_data['Timestamp'] = final_data[['Date', 'Time']].apply(lambda x: pd.to_datetime(' '.join(x), format=\"%d-%m-%Y %H:%M:%S\"), axis=1)\n",
    "\n",
    "# A final plot of the pCO₂\n",
    "fig, ax1 = plt.subplots()\n",
    "ax1.set_xlabel('Date') \n",
    "ax1.set_ylabel('pCO₂')\n",
    "ax1.plot(final_data['Timestamp'], final_data['pCO2_pp'], color='darkorange', marker=\".\", markersize=2, linewidth=0)\n",
    "plt.setp(ax1.get_xticklabels(), rotation=90)\n",
    "None"
   ]
  },
  {
   "cell_type": "code",
   "execution_count": null,
   "id": "4c2bd574-1166-470c-8e1a-bd84db1fce70",
   "metadata": {},
   "outputs": [],
   "source": []
  }
 ],
 "metadata": {
  "kernelspec": {
   "display_name": "Python 3 (ipykernel)",
   "language": "python",
   "name": "python3"
  },
  "language_info": {
   "codemirror_mode": {
    "name": "ipython",
    "version": 3
   },
   "file_extension": ".py",
   "mimetype": "text/x-python",
   "name": "python",
   "nbconvert_exporter": "python",
   "pygments_lexer": "ipython3",
   "version": "3.9.6"
  }
 },
 "nbformat": 4,
 "nbformat_minor": 5
}
